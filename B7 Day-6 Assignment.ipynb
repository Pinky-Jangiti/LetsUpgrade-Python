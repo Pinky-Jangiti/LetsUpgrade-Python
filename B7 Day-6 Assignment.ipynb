{
 "cells": [
  {
   "cell_type": "markdown",
   "metadata": {},
   "source": [
    "# Day-6 Assignment-1"
   ]
  },
  {
   "cell_type": "code",
   "execution_count": 17,
   "metadata": {},
   "outputs": [],
   "source": [
    "class bank_account():\n",
    "    def __init__(self,ownerName,Balance=0):\n",
    "        self.ownerName = ownerName\n",
    "        self.Balance = Balance\n",
    "        \n",
    "    def deposit(self):\n",
    "        amount = float(input(\"enter amount to be Deposited:\"))\n",
    "        self.Balance += amount\n",
    "        print(\"\\n amount deposited:\",amount)\n",
    "        \n",
    "    def withdraw(self):\n",
    "        amount = float(input(\"enter amount to be withdrawn:\"))\n",
    "        if self.Balance >= amount:\n",
    "            self.Balance -= amount\n",
    "            print(\"\\n amount withdrawn:\",amount)\n",
    "        else:\n",
    "            print(\"\\n overdrawn \")\n",
    "    \n",
    "    def display(self):\n",
    "         print(\"name\",self.ownerName)\n",
    "         print(\"Balance\",self.Balance)\n",
    "        \n",
    "        "
   ]
  },
  {
   "cell_type": "code",
   "execution_count": 18,
   "metadata": {},
   "outputs": [],
   "source": [
    "acc = bank_account(\"sony\", 1000)"
   ]
  },
  {
   "cell_type": "code",
   "execution_count": 19,
   "metadata": {},
   "outputs": [
    {
     "name": "stdout",
     "output_type": "stream",
     "text": [
      "name sony\n",
      "Balance 1000\n"
     ]
    }
   ],
   "source": [
    "acc.display()"
   ]
  },
  {
   "cell_type": "code",
   "execution_count": 20,
   "metadata": {},
   "outputs": [
    {
     "name": "stdout",
     "output_type": "stream",
     "text": [
      "enter amount to be Deposited:5000\n",
      "\n",
      " amount deposited: 5000.0\n"
     ]
    }
   ],
   "source": [
    "acc.deposit()"
   ]
  },
  {
   "cell_type": "code",
   "execution_count": 21,
   "metadata": {},
   "outputs": [
    {
     "name": "stdout",
     "output_type": "stream",
     "text": [
      "enter amount to be withdrawn:2000\n",
      "\n",
      " amount withdrawn: 2000.0\n"
     ]
    }
   ],
   "source": [
    "acc.withdraw()"
   ]
  },
  {
   "cell_type": "code",
   "execution_count": 22,
   "metadata": {},
   "outputs": [
    {
     "name": "stdout",
     "output_type": "stream",
     "text": [
      "name sony\n",
      "Balance 4000.0\n"
     ]
    }
   ],
   "source": [
    "acc.display()"
   ]
  },
  {
   "cell_type": "code",
   "execution_count": 23,
   "metadata": {},
   "outputs": [
    {
     "name": "stdout",
     "output_type": "stream",
     "text": [
      "enter amount to be withdrawn:6000\n",
      "\n",
      " overdrawn \n"
     ]
    }
   ],
   "source": [
    "acc.withdraw()"
   ]
  },
  {
   "cell_type": "markdown",
   "metadata": {},
   "source": [
    "# Day-6 Assignment-2"
   ]
  },
  {
   "cell_type": "code",
   "execution_count": 73,
   "metadata": {},
   "outputs": [],
   "source": [
    "import math\n",
    "\n",
    "class cone():\n",
    "    def __init__(self,radius,height):\n",
    "        self.radius = radius\n",
    "        self.height = height\n",
    "        \n",
    "    def getdetails(self):\n",
    "        print(\"radius\",self.radius)\n",
    "        print(\"height\",self.height)\n",
    "        \n",
    "    def volume(self):\n",
    "        vol = (1/3)*math.pi*self.radius*self.radius*self.height\n",
    "        print(\"volume of cone:\",str(vol))\n",
    "        \n",
    "    def surfacearea(self):\n",
    "        base = math.pi*self.radius*self.radius\n",
    "        side = math.pi*self.radius*math.sqrt(self.radius*self.radius + self.height*self.height)\n",
    "        print(\"surface area of cone base\",str(base),\"\\nsurface area of cone side\",str(side))\n",
    "        "
   ]
  },
  {
   "cell_type": "code",
   "execution_count": 74,
   "metadata": {},
   "outputs": [],
   "source": [
    "c = cone(5, 12)"
   ]
  },
  {
   "cell_type": "code",
   "execution_count": 75,
   "metadata": {},
   "outputs": [
    {
     "name": "stdout",
     "output_type": "stream",
     "text": [
      "radius 5\n",
      "height 12\n"
     ]
    }
   ],
   "source": [
    "c.getdetails()"
   ]
  },
  {
   "cell_type": "code",
   "execution_count": 76,
   "metadata": {},
   "outputs": [
    {
     "name": "stdout",
     "output_type": "stream",
     "text": [
      "volume of cone: 314.15926535897927\n"
     ]
    }
   ],
   "source": [
    "c.volume()"
   ]
  },
  {
   "cell_type": "code",
   "execution_count": 77,
   "metadata": {},
   "outputs": [
    {
     "name": "stdout",
     "output_type": "stream",
     "text": [
      "surface area of cone base 78.53981633974483 \n",
      "surface area of cone side 204.20352248333654\n"
     ]
    }
   ],
   "source": [
    "c.surfacearea()"
   ]
  },
  {
   "cell_type": "code",
   "execution_count": null,
   "metadata": {},
   "outputs": [],
   "source": []
  }
 ],
 "metadata": {
  "kernelspec": {
   "display_name": "Python 3",
   "language": "python",
   "name": "python3"
  },
  "language_info": {
   "codemirror_mode": {
    "name": "ipython",
    "version": 3
   },
   "file_extension": ".py",
   "mimetype": "text/x-python",
   "name": "python",
   "nbconvert_exporter": "python",
   "pygments_lexer": "ipython3",
   "version": "3.8.3"
  }
 },
 "nbformat": 4,
 "nbformat_minor": 4
}
